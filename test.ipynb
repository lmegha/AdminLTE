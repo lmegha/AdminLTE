{
  "nbformat": 4,
  "nbformat_minor": 0,
  "metadata": {
    "colab": {
      "name": "test.ipynb",
      "version": "0.3.2",
      "provenance": []
    },
    "kernelspec": {
      "name": "python2",
      "display_name": "Python 2"
    },
    "accelerator": "GPU"
  },
  "cells": [
    {
      "cell_type": "markdown",
      "metadata": {
        "id": "view-in-github",
        "colab_type": "text"
      },
      "source": [
        "[View in Colaboratory](https://colab.research.google.com/github/lmegha/AdminLTE/blob/master/test.ipynb)"
      ]
    },
    {
      "metadata": {
        "id": "AcRklA0WQ3On",
        "colab_type": "code",
        "colab": {
          "base_uri": "https://localhost:8080/",
          "height": 34
        },
        "outputId": "ba96fad2-ac3e-47e6-b0f1-e4ada0bea46c"
      },
      "cell_type": "code",
      "source": [
        "import tensorflow as tf\n",
        "tf.test.gpu_device_name()"
      ],
      "execution_count": 5,
      "outputs": [
        {
          "output_type": "execute_result",
          "data": {
            "text/plain": [
              "'/device:GPU:0'"
            ]
          },
          "metadata": {
            "tags": []
          },
          "execution_count": 5
        }
      ]
    },
    {
      "metadata": {
        "id": "F4QRD6tukhBs",
        "colab_type": "code",
        "colab": {
          "base_uri": "https://localhost:8080/",
          "height": 34
        },
        "outputId": "7988964c-99d3-444f-cd2a-699c8edfd50c"
      },
      "cell_type": "code",
      "source": [
        "!ls"
      ],
      "execution_count": 6,
      "outputs": [
        {
          "output_type": "stream",
          "text": [
            "datalab\r\n"
          ],
          "name": "stdout"
        }
      ]
    },
    {
      "metadata": {
        "id": "MHDB9hxi1_X9",
        "colab_type": "code",
        "colab": {
          "base_uri": "https://localhost:8080/",
          "height": 34
        },
        "outputId": "e4c43764-5c21-4f14-a883-dfa322d40630"
      },
      "cell_type": "code",
      "source": [
        "!git clone https://github.com/cchen156/Learning-to-See-in-the-Dark.git"
      ],
      "execution_count": 8,
      "outputs": [
        {
          "output_type": "stream",
          "text": [
            "fatal: destination path 'Learning-to-See-in-the-Dark' already exists and is not an empty directory.\r\n"
          ],
          "name": "stdout"
        }
      ]
    },
    {
      "metadata": {
        "id": "V2AxEGr_-voy",
        "colab_type": "code",
        "colab": {
          "base_uri": "https://localhost:8080/",
          "height": 68
        },
        "outputId": "f74325c2-4c57-4ab8-b0d6-d403ad21fa9a"
      },
      "cell_type": "code",
      "source": [
        "import requests\n",
        "import os\n",
        "\n",
        "def download_file_from_google_drive(id, destination):\n",
        "    URL = \"https://docs.google.com/uc?export=download\"\n",
        "\n",
        "    session = requests.Session()\n",
        "\n",
        "    response = session.get(URL, params = { 'id' : id }, stream = True)\n",
        "    token = get_confirm_token(response)\n",
        "\n",
        "    if token:\n",
        "        params = { 'id' : id, 'confirm' : token }\n",
        "        response = session.get(URL, params = params, stream = True)\n",
        "\n",
        "    save_response_content(response, destination)    \n",
        "\n",
        "def get_confirm_token(response):\n",
        "    for key, value in response.cookies.items():\n",
        "        if key.startswith('download_warning'):\n",
        "            return value\n",
        "\n",
        "    return None\n",
        "\n",
        "def save_response_content(response, destination):\n",
        "    CHUNK_SIZE = 32768\n",
        "\n",
        "    with open(destination, \"wb\") as f:\n",
        "        for chunk in response.iter_content(CHUNK_SIZE):\n",
        "            if chunk: # filter out keep-alive new chunks\n",
        "                f.write(chunk)\n",
        "\n",
        "\n",
        "\n",
        "print('Dowloading Sony subset... (25GB)')\n",
        "download_file_from_google_drive('10kpAcvldtcb9G2ze5hTcF1odzu4V_Zvh', 'Learning-to-See-in-the-Dark/dataset/Sony.zip')\n",
        "\n",
        "print('Downloading Fuji subset... (52GB)')\n",
        "download_file_from_google_drive('12hvKCjwuilKTZPe9EZ7ZTb-azOmUA3HT', 'Learning-to-See-in-the-Dark/dataset/Fuji.zip')\n",
        "\n",
        "os.system('unzip Learning-to-See-in-the-Dark/dataset/Sony.zip')\n",
        "os.system('unzip Learning-to-See-in-the-Dark/dataset/Fuji.zip')\n",
        "print('Unzipped Files')"
      ],
      "execution_count": 11,
      "outputs": [
        {
          "output_type": "stream",
          "text": [
            "Dowloading Sony subset... (25GB)\n",
            "Downloading Fuji subset... (52GB)\n",
            "Unzipped Files\n"
          ],
          "name": "stdout"
        }
      ]
    },
    {
      "metadata": {
        "id": "wEgLNn3Bzwne",
        "colab_type": "code",
        "colab": {
          "base_uri": "https://localhost:8080/",
          "height": 85
        },
        "outputId": "5de96eb7-304f-4685-fc45-bd6a5209d559"
      },
      "cell_type": "code",
      "source": [
        "!ls"
      ],
      "execution_count": 12,
      "outputs": [
        {
          "output_type": "stream",
          "text": [
            "datalab\t\t     Fuji_val_list.txt\t\t  Sony_train_list.txt\r\n",
            "Fuji\t\t     Learning-to-See-in-the-Dark  Sony_val_list.txt\r\n",
            "Fuji_test_list.txt   Sony\r\n",
            "Fuji_train_list.txt  Sony_test_list.txt\r\n"
          ],
          "name": "stdout"
        }
      ]
    },
    {
      "metadata": {
        "id": "PA89hflcNsE1",
        "colab_type": "code",
        "colab": {
          "base_uri": "https://localhost:8080/",
          "height": 51
        },
        "outputId": "8b7f621a-a873-4738-b50f-0f680ae844dc"
      },
      "cell_type": "code",
      "source": [
        "import requests\n",
        "\n",
        "def download_file_from_google_drive(id, destination):\n",
        "    URL = \"https://docs.google.com/uc?export=download\"\n",
        "\n",
        "    session = requests.Session()\n",
        "\n",
        "    response = session.get(URL, params = { 'id' : id }, stream = True)\n",
        "    token = get_confirm_token(response)\n",
        "\n",
        "    if token:\n",
        "        params = { 'id' : id, 'confirm' : token }\n",
        "        response = session.get(URL, params = params, stream = True)\n",
        "\n",
        "    save_response_content(response, destination)    \n",
        "\n",
        "def get_confirm_token(response):\n",
        "    for key, value in response.cookies.items():\n",
        "        if key.startswith('download_warning'):\n",
        "            return value\n",
        "\n",
        "    return None\n",
        "\n",
        "def save_response_content(response, destination):\n",
        "    CHUNK_SIZE = 32768\n",
        "\n",
        "    with open(destination, \"wb\") as f:\n",
        "        for chunk in response.iter_content(CHUNK_SIZE):\n",
        "            if chunk: # filter out keep-alive new chunks\n",
        "                f.write(chunk)\n",
        "\n",
        "\n",
        "\n",
        "print('Dowloading Sony Model (84Mb)')\n",
        "download_file_from_google_drive('1wmx7AM6XWHjHIvpErmIouQgbQoMxAymG', 'Learning-to-See-in-the-Dark/checkpoint/Sony/model.ckpt.data-00000-of-00001')\n",
        "download_file_from_google_drive('1OmrGMng1QuwUa8lf-_wBVvbRJwBr0ETr', 'Learning-to-See-in-the-Dark/checkpoint/Sony/model.ckpt.meta')\n",
        "\n",
        "print('Dowloading Fuji Model (84Mb)')\n",
        "download_file_from_google_drive('1PX5wA89d-JLmwQHqpBnyTYJxDVzC1gpt', 'Learning-to-See-in-the-Dark/checkpoint/Fuji/model.ckpt.data-00000-of-00001')\n",
        "download_file_from_google_drive('1VzyzQ9JglcxxqUe8yn3-cAeB1pJ4jxf4', 'Learning-to-See-in-the-Dark/checkpoint/Fuji/model.ckpt.meta')"
      ],
      "execution_count": 13,
      "outputs": [
        {
          "output_type": "stream",
          "text": [
            "Dowloading Sony Model (84Mb)\n",
            "Dowloading Fuji Model (84Mb)\n"
          ],
          "name": "stdout"
        }
      ]
    },
    {
      "metadata": {
        "id": "9DUgj0xC9lea",
        "colab_type": "code",
        "colab": {
          "base_uri": "https://localhost:8080/",
          "height": 85
        },
        "outputId": "f9a63fb3-592b-48bf-e89a-5beac7a149fb"
      },
      "cell_type": "code",
      "source": [
        "!ls"
      ],
      "execution_count": 14,
      "outputs": [
        {
          "output_type": "stream",
          "text": [
            "datalab\t\t     Fuji_val_list.txt\t\t  Sony_train_list.txt\r\n",
            "Fuji\t\t     Learning-to-See-in-the-Dark  Sony_val_list.txt\r\n",
            "Fuji_test_list.txt   Sony\r\n",
            "Fuji_train_list.txt  Sony_test_list.txt\r\n"
          ],
          "name": "stdout"
        }
      ]
    },
    {
      "metadata": {
        "id": "fBqlSZlfOhmy",
        "colab_type": "code",
        "colab": {
          "base_uri": "https://localhost:8080/",
          "height": 176
        },
        "outputId": "6cc190b5-bea9-45ca-ad0a-0a88fe3d42bc"
      },
      "cell_type": "code",
      "source": [
        "!pip install rawpy"
      ],
      "execution_count": 15,
      "outputs": [
        {
          "output_type": "stream",
          "text": [
            "Collecting rawpy\n",
            "\u001b[?25l  Downloading https://files.pythonhosted.org/packages/f5/3c/4fef8b2b566a646bd620500cc0fd1fb5e6b1c36e2d4661af325e82e5f653/rawpy-0.10.1-cp27-cp27mu-manylinux1_x86_64.whl (620kB)\n",
            "\u001b[K    100% |████████████████████████████████| 624kB 10.8MB/s \n",
            "\u001b[?25hRequirement already satisfied: numpy in /usr/local/lib/python2.7/dist-packages (from rawpy) (1.14.3)\n",
            "Requirement already satisfied: enum34 in /usr/local/lib/python2.7/dist-packages (from rawpy) (1.1.6)\n",
            "Installing collected packages: rawpy\n",
            "Successfully installed rawpy-0.10.1\n"
          ],
          "name": "stdout"
        }
      ]
    },
    {
      "metadata": {
        "id": "3xXXyiuoj9X_",
        "colab_type": "code",
        "colab": {}
      },
      "cell_type": "code",
      "source": [
        "tf.reset_default_graph()"
      ],
      "execution_count": 0,
      "outputs": []
    },
    {
      "metadata": {
        "id": "E1MiFFWRbPx7",
        "colab_type": "code",
        "colab": {
          "base_uri": "https://localhost:8080/",
          "height": 1632
        },
        "outputId": "6d6d62dc-f523-4cc2-cf25-444f4707ca00"
      },
      "cell_type": "code",
      "source": [
        "#uniform content loss + adaptive threshold + per_class_input + recursive G\n",
        "#improvement upon cqf37\n",
        "from __future__ import division\n",
        "import os,time,scipy.io\n",
        "import tensorflow as tf\n",
        "import tensorflow.contrib.slim as slim\n",
        "from tensorflow.contrib.layers.python.layers import initializers\n",
        "import numpy as np\n",
        "import pdb\n",
        "import rawpy\n",
        "import glob\n",
        "\n",
        "\n",
        "input_dir = './Sony/short/'\n",
        "gt_dir = './Sony/long/'\n",
        "checkpoint_dir = './Learning-to-See-in-the-Dark/checkpoint/Sony/'\n",
        "result_dir = './result_Sony/'\n",
        "\n",
        "#get train and test IDs\n",
        "train_fns = glob.glob(gt_dir + '0*.ARW')\n",
        "train_ids = []\n",
        "for i in range(len(train_fns)):\n",
        "    _, train_fn = os.path.split(train_fns[i])\n",
        "    train_ids.append(int(train_fn[0:5]))\n",
        "\n",
        "test_fns = glob.glob(gt_dir + '/1*.ARW')\n",
        "test_ids = []\n",
        "for i in range(len(test_fns)):\n",
        "    _, test_fn = os.path.split(test_fns[i])\n",
        "    test_ids.append(int(test_fn[0:5]))\n",
        "\n",
        "\n",
        "\n",
        "ps = 512 #patch size for training\n",
        "save_freq = 500\n",
        "\n",
        "DEBUG = 0\n",
        "if DEBUG == 1:\n",
        "  save_freq = 2\n",
        "  train_ids = train_ids[0:5]\n",
        "  test_ids = test_ids[0:5]\n",
        "\n",
        "\n",
        "\n",
        "def lrelu(x):\n",
        "    return tf.maximum(x*0.2,x)\n",
        "\n",
        "def upsample_and_concat(x1, x2, output_channels, in_channels):\n",
        "\n",
        "    pool_size = 2\n",
        "    deconv_filter = tf.Variable(tf.truncated_normal( [pool_size, pool_size, output_channels, in_channels], stddev=0.02))\n",
        "    deconv = tf.nn.conv2d_transpose(x1, deconv_filter, tf.shape(x2) , strides=[1, pool_size, pool_size, 1] )\n",
        "\n",
        "    deconv_output =  tf.concat([deconv, x2],3)\n",
        "    deconv_output.set_shape([None, None, None, output_channels*2])\n",
        "\n",
        "    return deconv_output\n",
        "\n",
        "def network(input):\n",
        "    conv1=slim.conv2d(input,32,[3,3], rate=1, activation_fn=lrelu,scope='g_conv1_1')\n",
        "    conv1=slim.conv2d(conv1,32,[3,3], rate=1, activation_fn=lrelu,scope='g_conv1_2')\n",
        "    pool1=slim.max_pool2d(conv1, [2, 2], padding='SAME' )\n",
        "\n",
        "    conv2=slim.conv2d(pool1,64,[3,3], rate=1, activation_fn=lrelu,scope='g_conv2_1')\n",
        "    conv2=slim.conv2d(conv2,64,[3,3], rate=1, activation_fn=lrelu,scope='g_conv2_2')\n",
        "    pool2=slim.max_pool2d(conv2, [2, 2], padding='SAME' )\n",
        "\n",
        "    conv3=slim.conv2d(pool2,128,[3,3], rate=1, activation_fn=lrelu,scope='g_conv3_1')\n",
        "    conv3=slim.conv2d(conv3,128,[3,3], rate=1, activation_fn=lrelu,scope='g_conv3_2')\n",
        "    pool3=slim.max_pool2d(conv3, [2, 2], padding='SAME' )\n",
        "\n",
        "    conv4=slim.conv2d(pool3,256,[3,3], rate=1, activation_fn=lrelu,scope='g_conv4_1')\n",
        "    conv4=slim.conv2d(conv4,256,[3,3], rate=1, activation_fn=lrelu,scope='g_conv4_2')\n",
        "    pool4=slim.max_pool2d(conv4, [2, 2], padding='SAME' )\n",
        "\n",
        "    conv5=slim.conv2d(pool4,512,[3,3], rate=1, activation_fn=lrelu,scope='g_conv5_1')\n",
        "    conv5=slim.conv2d(conv5,512,[3,3], rate=1, activation_fn=lrelu,scope='g_conv5_2')\n",
        "\n",
        "    up6 =  upsample_and_concat( conv5, conv4, 256, 512  )\n",
        "    conv6=slim.conv2d(up6,  256,[3,3], rate=1, activation_fn=lrelu,scope='g_conv6_1')\n",
        "    conv6=slim.conv2d(conv6,256,[3,3], rate=1, activation_fn=lrelu,scope='g_conv6_2')\n",
        "\n",
        "    up7 =  upsample_and_concat( conv6, conv3, 128, 256  )\n",
        "    conv7=slim.conv2d(up7,  128,[3,3], rate=1, activation_fn=lrelu,scope='g_conv7_1')\n",
        "    conv7=slim.conv2d(conv7,128,[3,3], rate=1, activation_fn=lrelu,scope='g_conv7_2')\n",
        "\n",
        "    up8 =  upsample_and_concat( conv7, conv2, 64, 128 )\n",
        "    conv8=slim.conv2d(up8,  64,[3,3], rate=1, activation_fn=lrelu,scope='g_conv8_1')\n",
        "    conv8=slim.conv2d(conv8,64,[3,3], rate=1, activation_fn=lrelu,scope='g_conv8_2')\n",
        "\n",
        "    up9 =  upsample_and_concat( conv8, conv1, 32, 64 )\n",
        "    conv9=slim.conv2d(up9,  32,[3,3], rate=1, activation_fn=lrelu,scope='g_conv9_1')\n",
        "    conv9=slim.conv2d(conv9,32,[3,3], rate=1, activation_fn=lrelu,scope='g_conv9_2')\n",
        "\n",
        "    conv10=slim.conv2d(conv9,12,[1,1], rate=1, activation_fn=None, scope='g_conv10')\n",
        "    out = tf.depth_to_space(conv10,2)\n",
        "    return out\n",
        "\n",
        "\n",
        "def pack_raw(raw):\n",
        "    #pack Bayer image to 4 channels\n",
        "    im = raw.raw_image_visible.astype(np.float32) \n",
        "    im = np.maximum(im - 512,0)/ (16383 - 512) #subtract the black level\n",
        "\n",
        "    im = np.expand_dims(im,axis=2) \n",
        "    img_shape = im.shape\n",
        "    H = img_shape[0]\n",
        "    W = img_shape[1]\n",
        "\n",
        "    out = np.concatenate((im[0:H:2,0:W:2,:], \n",
        "                       im[0:H:2,1:W:2,:],\n",
        "                       im[1:H:2,1:W:2,:],\n",
        "                       im[1:H:2,0:W:2,:]), axis=2)\n",
        "    return out\n",
        "\n",
        "\n",
        "\n",
        "sess=tf.Session()\n",
        "in_image=tf.placeholder(tf.float32,[None,None,None,4])\n",
        "gt_image=tf.placeholder(tf.float32,[None,None,None,3])\n",
        "out_image=network(in_image)\n",
        "\n",
        "saver=tf.train.Saver()\n",
        "sess.run(tf.global_variables_initializer())\n",
        "ckpt=tf.train.get_checkpoint_state(checkpoint_dir)\n",
        "if ckpt:\n",
        "    print('loaded '+ckpt.model_checkpoint_path)\n",
        "    saver.restore(sess,ckpt.model_checkpoint_path)\n",
        "    \n",
        "    \n",
        "if not os.path.isdir(result_dir + 'final/'):\n",
        "    os.makedirs(result_dir + 'final/')\n",
        "\n",
        "for test_id in test_ids:\n",
        "    #test the first image in each sequence\n",
        "    in_files = glob.glob(input_dir + '%05d_00*.ARW'%test_id)\n",
        "    for k in range(len(in_files)):\n",
        "        in_path = in_files[k]\n",
        "        _, in_fn = os.path.split(in_path)\n",
        "        print(in_fn)\n",
        "        gt_files = glob.glob(gt_dir + '%05d_00*.ARW'%test_id) \n",
        "        gt_path = gt_files[0]\n",
        "        _, gt_fn = os.path.split(gt_path)\n",
        "        in_exposure =  float(in_fn[9:-5])\n",
        "        gt_exposure =  float(gt_fn[9:-5])\n",
        "        ratio = min(gt_exposure/in_exposure,300)\n",
        "\n",
        "        raw = rawpy.imread(in_path)\n",
        "        input_full = np.expand_dims(pack_raw(raw),axis=0) *ratio\n",
        "        \n",
        "        im = raw.postprocess(use_camera_wb=True, half_size=False, no_auto_bright=True, output_bps=16)\n",
        "        #scale_full = np.expand_dims(np.float32(im/65535.0),axis = 0)*ratio\n",
        "        scale_full = np.expand_dims(np.float32(im/65535.0),axis = 0)\t\n",
        "\n",
        "        gt_raw = rawpy.imread(gt_path)\n",
        "        im = gt_raw.postprocess(use_camera_wb=True, half_size=False, no_auto_bright=True, output_bps=16)\n",
        "        gt_full = np.expand_dims(np.float32(im/65535.0),axis = 0)\n",
        "\n",
        "        input_full = np.minimum(input_full,1.0)\n",
        "         \n",
        "        output =sess.run(out_image,feed_dict={in_image: input_full})\n",
        "        output = np.minimum(np.maximum(output,0),1)\n",
        "\n",
        "        output = output[0,:,:,:]\n",
        "        gt_full = gt_full[0,:,:,:]\n",
        "        scale_full = scale_full[0,:,:,:] \t\n",
        "        scale_full = scale_full*np.mean(gt_full)/np.mean(scale_full) # scale the low-light image to the same mean of the groundtruth\n",
        "        \n",
        "        scipy.misc.toimage(output*255,  high=255, low=0, cmin=0, cmax=255).save(result_dir + 'final/%5d_00_%d_out.png'%(test_id,ratio))\n",
        "        scipy.misc.toimage(scale_full*255,  high=255, low=0, cmin=0, cmax=255).save(result_dir + 'final/%5d_00_%d_scale.png'%(test_id,ratio))\n",
        "        scipy.misc.toimage(gt_full*255,  high=255, low=0, cmin=0, cmax=255).save(result_dir + 'final/%5d_00_%d_gt.png'%(test_id,ratio))\n"
      ],
      "execution_count": 16,
      "outputs": [
        {
          "output_type": "stream",
          "text": [
            "loaded ./Learning-to-See-in-the-Dark/checkpoint/Sony/model.ckpt\n",
            "INFO:tensorflow:Restoring parameters from ./Learning-to-See-in-the-Dark/checkpoint/Sony/model.ckpt\n",
            "10069_00_0.1s.ARW\n",
            "10069_00_0.04s.ARW\n",
            "10187_00_0.04s.ARW\n",
            "10187_00_0.1s.ARW\n",
            "10187_00_0.033s.ARW\n",
            "10054_00_0.1s.ARW\n",
            "10054_00_0.04s.ARW\n",
            "10203_00_0.033s.ARW\n",
            "10203_00_0.04s.ARW\n",
            "10203_00_0.1s.ARW\n",
            "10185_00_0.04s.ARW\n",
            "10185_00_0.033s.ARW\n",
            "10185_00_0.1s.ARW\n",
            "10162_00_0.1s.ARW\n",
            "10178_00_0.033s.ARW\n",
            "10178_00_0.1s.ARW\n",
            "10178_00_0.04s.ARW\n",
            "10125_00_0.1s.ARW\n",
            "10176_00_0.1s.ARW\n",
            "10074_00_0.1s.ARW\n",
            "10055_00_0.1s.ARW\n",
            "10055_00_0.04s.ARW\n",
            "10198_00_0.04s.ARW\n",
            "10198_00_0.033s.ARW\n",
            "10198_00_0.1s.ARW\n",
            "10003_00_0.1s.ARW\n",
            "10003_00_0.04s.ARW\n",
            "10011_00_0.04s.ARW\n",
            "10011_00_0.1s.ARW\n",
            "10040_00_0.1s.ARW\n",
            "10040_00_0.04s.ARW\n",
            "10126_00_0.1s.ARW\n",
            "10035_00_0.04s.ARW\n",
            "10035_00_0.1s.ARW\n",
            "10213_00_0.04s.ARW\n",
            "10213_00_0.033s.ARW\n",
            "10213_00_0.1s.ARW\n",
            "10191_00_0.033s.ARW\n",
            "10191_00_0.1s.ARW\n",
            "10191_00_0.04s.ARW\n",
            "10034_00_0.1s.ARW\n",
            "10034_00_0.04s.ARW\n",
            "10022_00_0.04s.ARW\n",
            "10022_00_0.1s.ARW\n",
            "10101_00_0.1s.ARW\n",
            "10226_00_0.04s.ARW\n",
            "10226_00_0.1s.ARW\n",
            "10226_00_0.033s.ARW\n",
            "10082_00_0.1s.ARW\n",
            "10111_00_0.1s.ARW\n",
            "10199_00_0.033s.ARW\n",
            "10199_00_0.04s.ARW\n",
            "10199_00_0.1s.ARW\n",
            "10106_00_0.1s.ARW\n",
            "10193_00_0.033s.ARW\n",
            "10193_00_0.04s.ARW\n",
            "10193_00_0.1s.ARW\n",
            "10228_00_0.033s.ARW\n",
            "10228_00_0.04s.ARW\n",
            "10228_00_0.1s.ARW\n",
            "10140_00_0.1s.ARW\n",
            "10170_00_0.1s.ARW\n",
            "10032_00_0.1s.ARW\n",
            "10032_00_0.04s.ARW\n",
            "10139_00_0.1s.ARW\n",
            "10093_00_0.1s.ARW\n",
            "10030_00_0.1s.ARW\n",
            "10030_00_0.04s.ARW\n",
            "10045_00_0.04s.ARW\n",
            "10045_00_0.1s.ARW\n",
            "10006_00_0.1s.ARW\n",
            "10006_00_0.04s.ARW\n",
            "10116_00_0.1s.ARW\n",
            "10192_00_0.1s.ARW\n",
            "10192_00_0.04s.ARW\n",
            "10192_00_0.033s.ARW\n",
            "10077_00_0.1s.ARW\n",
            "10087_00_0.1s.ARW\n",
            "10227_00_0.04s.ARW\n",
            "10227_00_0.1s.ARW\n",
            "10227_00_0.033s.ARW\n",
            "10167_00_0.1s.ARW\n",
            "10103_00_0.1s.ARW\n",
            "10105_00_0.1s.ARW\n",
            "10068_00_0.1s.ARW\n",
            "10068_00_0.04s.ARW\n",
            "10217_00_0.1s.ARW\n",
            "10217_00_0.033s.ARW\n",
            "10217_00_0.04s.ARW\n",
            "10172_00_0.1s.ARW\n",
            "10163_00_0.1s.ARW\n",
            "10016_00_0.04s.ARW\n",
            "10016_00_0.1s.ARW\n"
          ],
          "name": "stdout"
        }
      ]
    },
    {
      "metadata": {
        "id": "-i2d7L3H8tvM",
        "colab_type": "code",
        "colab": {
          "base_uri": "https://localhost:8080/",
          "height": 34
        },
        "outputId": "f10374db-a17b-4f00-87f3-0f32983d0713"
      },
      "cell_type": "code",
      "source": [
        "files = !ls result_Sony | head\n",
        "files"
      ],
      "execution_count": 17,
      "outputs": [
        {
          "output_type": "execute_result",
          "data": {
            "text/plain": [
              "['final']"
            ]
          },
          "metadata": {
            "tags": []
          },
          "execution_count": 17
        }
      ]
    },
    {
      "metadata": {
        "id": "97njzLq29hvp",
        "colab_type": "code",
        "colab": {
          "base_uri": "https://localhost:8080/",
          "height": 34
        },
        "outputId": "d732794e-2b38-444e-893c-dc2c31c70526"
      },
      "cell_type": "code",
      "source": [
        "!ls {PATH}"
      ],
      "execution_count": 1,
      "outputs": [
        {
          "output_type": "stream",
          "text": [
            "ls: cannot access '{PATH}': No such file or directory\r\n"
          ],
          "name": "stdout"
        }
      ]
    },
    {
      "metadata": {
        "id": "11a59r32z3Du",
        "colab_type": "code",
        "colab": {
          "base_uri": "https://localhost:8080/"
        },
        "outputId": "f61fa9ee-aa24-4b0e-d973-8bd339234e80"
      },
      "cell_type": "code",
      "source": [
        "from google.colab import files\n",
        "files.download('results.zip')"
      ],
      "execution_count": 0,
      "outputs": [
        {
          "output_type": "stream",
          "text": [
            "----------------------------------------\n",
            "Exception happened during processing of request from ('::ffff:127.0.0.1', 37288, 0, 0)\n",
            "----------------------------------------\n"
          ],
          "name": "stdout"
        },
        {
          "output_type": "stream",
          "text": [
            "Traceback (most recent call last):\n",
            "  File \"/usr/lib/python2.7/SocketServer.py\", line 290, in _handle_request_noblock\n",
            "    self.process_request(request, client_address)\n",
            "  File \"/usr/lib/python2.7/SocketServer.py\", line 318, in process_request\n",
            "    self.finish_request(request, client_address)\n",
            "  File \"/usr/lib/python2.7/SocketServer.py\", line 331, in finish_request\n",
            "    self.RequestHandlerClass(request, client_address, self)\n",
            "  File \"/usr/lib/python2.7/SocketServer.py\", line 654, in __init__\n",
            "    self.finish()\n",
            "  File \"/usr/lib/python2.7/SocketServer.py\", line 713, in finish\n",
            "    self.wfile.close()\n",
            "  File \"/usr/lib/python2.7/socket.py\", line 283, in close\n",
            "    self.flush()\n",
            "  File \"/usr/lib/python2.7/socket.py\", line 307, in flush\n",
            "    self._sock.sendall(view[write_offset:write_offset+buffer_size])\n",
            "error: [Errno 32] Broken pipe\n"
          ],
          "name": "stderr"
        }
      ]
    },
    {
      "metadata": {
        "id": "SL5c7_k7RBRp",
        "colab_type": "code",
        "colab": {
          "base_uri": "https://localhost:8080/",
          "height": 85
        },
        "outputId": "405d63b1-ef03-4fb6-9f25-6ef7ec9bc875"
      },
      "cell_type": "code",
      "source": [
        "!ls"
      ],
      "execution_count": 2,
      "outputs": [
        {
          "output_type": "stream",
          "text": [
            "datalab\t\t     Fuji_val_list.txt\t\t  Sony\r\n",
            "Fuji\t\t     Learning-to-See-in-the-Dark  Sony_test_list.txt\r\n",
            "Fuji_test_list.txt   result_Sony\t\t  Sony_train_list.txt\r\n",
            "Fuji_train_list.txt  results.zip\t\t  Sony_val_list.txt\r\n"
          ],
          "name": "stdout"
        }
      ]
    },
    {
      "metadata": {
        "id": "FxyuqK5sQG4o",
        "colab_type": "code",
        "colab": {
          "base_uri": "https://localhost:8080/",
          "height": 4794
        },
        "outputId": "c626c830-d8ef-4aa5-e22d-de00ef06995f"
      },
      "cell_type": "code",
      "source": [
        "!zip -r results.zip result_Sony"
      ],
      "execution_count": 1,
      "outputs": [
        {
          "output_type": "stream",
          "text": [
            "  adding: result_Sony/ (stored 0%)\r\n",
            "  adding: result_Sony/final/ (stored 0%)\n",
            "  adding: result_Sony/final/10192_00_300_out.png (deflated 0%)\n",
            "  adding: result_Sony/final/10163_00_300_out.png (deflated 0%)\n",
            "  adding: result_Sony/final/10101_00_300_scale.png (deflated 0%)\n",
            "  adding: result_Sony/final/10103_00_300_scale.png (deflated 0%)\n",
            "  adding: result_Sony/final/10022_00_100_out.png (deflated 0%)\n",
            "  adding: result_Sony/final/10125_00_300_out.png (deflated 0%)\n",
            "  adding: result_Sony/final/10217_00_100_gt.png (deflated 0%)\n",
            "  adding: result_Sony/final/10178_00_100_scale.png (deflated 0%)\n",
            "  adding: result_Sony/final/10217_00_300_gt.png (deflated 0%)\n",
            "  adding: result_Sony/final/10178_00_300_scale.png (deflated 0%)\n",
            "  adding: result_Sony/final/10003_00_100_scale.png (deflated 0%)\n",
            "  adding: result_Sony/final/10167_00_300_gt.png (deflated 0%)\n",
            "  adding: result_Sony/final/10011_00_100_out.png (deflated 0%)\n",
            "  adding: result_Sony/final/10125_00_300_scale.png (deflated 0%)\n",
            "  adding: result_Sony/final/10035_00_100_scale.png (deflated 0%)\n",
            "  adding: result_Sony/final/10103_00_300_gt.png (deflated 0%)\n",
            "  adding: result_Sony/final/10011_00_100_scale.png (deflated 0%)\n",
            "  adding: result_Sony/final/10227_00_100_scale.png (deflated 0%)\n",
            "  adding: result_Sony/final/10227_00_300_out.png (deflated 0%)\n",
            "  adding: result_Sony/final/10170_00_300_out.png (deflated 0%)\n",
            "  adding: result_Sony/final/10228_00_100_scale.png (deflated 0%)\n",
            "  adding: result_Sony/final/10032_00_250_gt.png (deflated 0%)\n",
            "  adding: result_Sony/final/10203_00_300_scale.png (deflated 0%)\n",
            "  adding: result_Sony/final/10187_00_300_out.png (deflated 0%)\n",
            "  adding: result_Sony/final/10003_00_100_gt.png (deflated 0%)\n",
            "  adding: result_Sony/final/10192_00_300_scale.png (deflated 0%)\n",
            "  adding: result_Sony/final/10199_00_300_scale.png (deflated 0%)\n",
            "  adding: result_Sony/final/10191_00_100_out.png (deflated 0%)\n",
            "  adding: result_Sony/final/10111_00_300_gt.png (deflated 0%)\n",
            "  adding: result_Sony/final/10006_00_100_gt.png (deflated 0%)\n",
            "  adding: result_Sony/final/10199_00_250_scale.png (deflated 0%)\n",
            "  adding: result_Sony/final/10192_00_250_out.png (deflated 0%)\n",
            "  adding: result_Sony/final/10198_00_250_out.png (deflated 0%)\n",
            "  adding: result_Sony/final/10226_00_100_scale.png (deflated 0%)\n",
            "  adding: result_Sony/final/10217_00_100_out.png (deflated 0%)\n",
            "  adding: result_Sony/final/10087_00_300_gt.png (deflated 0%)\n",
            "  adding: result_Sony/final/10030_00_250_scale.png (deflated 0%)\n",
            "  adding: result_Sony/final/10087_00_300_out.png (deflated 0%)\n",
            "  adding: result_Sony/final/10217_00_100_scale.png (deflated 0%)\n",
            "  adding: result_Sony/final/10069_00_100_gt.png (deflated 0%)\n",
            "  adding: result_Sony/final/10116_00_300_gt.png (deflated 0%)\n",
            "  adding: result_Sony/final/10176_00_300_scale.png (deflated 0%)\n",
            "  adding: result_Sony/final/10011_00_250_scale.png (deflated 0%)\n",
            "  adding: result_Sony/final/10068_00_250_gt.png (deflated 0%)\n",
            "  adding: result_Sony/final/10213_00_100_gt.png (deflated 0%)\n",
            "  adding: result_Sony/final/10226_00_300_gt.png (deflated 0%)\n",
            "  adding: result_Sony/final/10035_00_100_out.png (deflated 0%)\n",
            "  adding: result_Sony/final/10111_00_300_out.png (deflated 0%)\n",
            "  adding: result_Sony/final/10192_00_300_gt.png (deflated 0%)\n",
            "  adding: result_Sony/final/10191_00_300_out.png (deflated 0%)\n",
            "  adding: result_Sony/final/10227_00_300_scale.png (deflated 0%)\n",
            "  adding: result_Sony/final/10227_00_250_scale.png (deflated 0%)\n",
            "  adding: result_Sony/final/10226_00_250_scale.png (deflated 0%)\n",
            "  adding: result_Sony/final/10198_00_300_gt.png"
          ],
          "name": "stdout"
        },
        {
          "output_type": "stream",
          "text": [
            " (deflated 0%)\n",
            "  adding: result_Sony/final/10193_00_300_gt.png (deflated 0%)\n",
            "  adding: result_Sony/final/10198_00_100_scale.png (deflated 0%)\n",
            "  adding: result_Sony/final/10074_00_300_gt.png (deflated 0%)\n",
            "  adding: result_Sony/final/10217_00_250_out.png (deflated 0%)\n",
            "  adding: result_Sony/final/10140_00_300_scale.png (deflated 0%)\n",
            "  adding: result_Sony/final/10069_00_250_scale.png (deflated 0%)\n",
            "  adding: result_Sony/final/10170_00_300_gt.png (deflated 0%)\n",
            "  adding: result_Sony/final/10074_00_300_out.png (deflated 0%)\n",
            "  adding: result_Sony/final/10227_00_300_gt.png (deflated 0%)\n",
            "  adding: result_Sony/final/10040_00_100_out.png (deflated 0%)\n",
            "  adding: result_Sony/final/10185_00_100_out.png (deflated 0%)\n",
            "  adding: result_Sony/final/10199_00_100_gt.png (deflated 0%)\n",
            "  adding: result_Sony/final/10176_00_300_out.png (deflated 0%)\n",
            "  adding: result_Sony/final/10162_00_300_scale.png (deflated 0%)\n",
            "  adding: result_Sony/final/10055_00_250_gt.png (deflated 0%)\n",
            "  adding: result_Sony/final/10105_00_300_scale.png (deflated 0%)\n",
            "  adding: result_Sony/final/10055_00_250_scale.png (deflated 0%)\n",
            "  adding: result_Sony/final/10030_00_250_gt.png (deflated 0%)\n",
            "  adding: result_Sony/final/10228_00_250_scale.png (deflated 0%)\n",
            "  adding: result_Sony/final/10227_00_100_gt.png (deflated 0%)\n",
            "  adding: result_Sony/final/10003_00_100_out.png (deflated 0%)\n",
            "  adding: result_Sony/final/10228_00_100_gt.png (deflated 0%)\n",
            "  adding: result_Sony/final/10213_00_100_out.png (deflated 0%)\n",
            "  adding: result_Sony/final/10045_00_100_gt.png (deflated 0%)\n",
            "  adding: result_Sony/final/10040_00_250_scale.png (deflated 0%)\n",
            "  adding: result_Sony/final/10187_00_100_out.png (deflated 0%)\n",
            "  adding: result_Sony/final/10217_00_250_scale.png (deflated 0%)\n",
            "  adding: result_Sony/final/10030_00_100_scale.png (deflated 0%)\n",
            "  adding: result_Sony/final/10199_00_300_gt.png (deflated 0%)\n",
            "  adding: result_Sony/final/10227_00_100_out.png (deflated 0%)\n",
            "  adding: result_Sony/final/10045_00_250_scale.png (deflated 0%)\n",
            "  adding: result_Sony/final/10217_00_300_scale.png (deflated 0%)\n",
            "  adding: result_Sony/final/10035_00_250_scale.png (deflated 0%)\n",
            "  adding: result_Sony/final/10178_00_100_out.png (deflated 0%)\n",
            "  adding: result_Sony/final/10055_00_250_out.png (deflated 0%)\n",
            "  adding: result_Sony/final/10030_00_100_gt.png (deflated 0%)\n",
            "  adding: result_Sony/final/10199_00_250_out.png (deflated 0%)\n",
            "  adding: result_Sony/final/10116_00_300_scale.png (deflated 0%)\n",
            "  adding: result_Sony/final/10032_00_100_gt.png (deflated 0%)\n",
            "  adding: result_Sony/final/10199_00_100_out.png (deflated 0%)\n",
            "  adding: result_Sony/final/10185_00_300_gt.png (deflated 0%)\n",
            "  adding: result_Sony/final/10185_00_300_scale.png (deflated 0%)\n",
            "  adding: result_Sony/final/10198_00_250_scale.png (deflated 0%)\n",
            "  adding: result_Sony/final/10034_00_100_scale.png (deflated 0%)\n",
            "  adding: result_Sony/final/10192_00_250_gt.png (deflated 0%)\n",
            "  adding: result_Sony/final/10187_00_100_gt.png (deflated 0%)\n",
            "  adding: result_Sony/final/10068_00_250_out.png (deflated 0%)\n",
            "  adding: result_Sony/final/10045_00_250_out.png (deflated 0%)\n",
            "  adding: result_Sony/final/10185_00_250_gt.png (deflated 0%)\n",
            "  adding: result_Sony/final/10226_00_250_out.png (deflated 0%)\n",
            "  adding: result_Sony/final/10199_00_250_gt.png (deflated 0%)\n",
            "  adding: result_Sony/final/10069_00_100_out.png (deflated 0%)\n",
            "  adding: result_Sony/final/10217_00_250_gt.png (deflated 0%)\n",
            "  adding: result_Sony/final/10006_00_100_out.png (deflated 0%)\n",
            "  adding: result_Sony/final/10011_00_250_out.png"
          ],
          "name": "stdout"
        },
        {
          "output_type": "stream",
          "text": [
            " (deflated 0%)\n",
            "  adding: result_Sony/final/10178_00_250_gt.png (deflated 0%)\n",
            "  adding: result_Sony/final/10140_00_300_gt.png (deflated 0%)\n",
            "  adding: result_Sony/final/10034_00_250_out.png (deflated 0%)\n",
            "  adding: result_Sony/final/10126_00_300_scale.png (deflated 0%)\n",
            "  adding: result_Sony/final/10068_00_100_gt.png (deflated 0%)\n",
            "  adding: result_Sony/final/10011_00_100_gt.png (deflated 0%)\n",
            "  adding: result_Sony/final/10034_00_100_out.png (deflated 0%)\n",
            "  adding: result_Sony/final/10203_00_250_scale.png (deflated 0%)\n",
            "  adding: result_Sony/final/10176_00_300_gt.png (deflated 0%)\n",
            "  adding: result_Sony/final/10187_00_300_gt.png (deflated 0%)\n",
            "  adding: result_Sony/final/10022_00_250_gt.png (deflated 0%)\n",
            "  adding: result_Sony/final/10016_00_100_out.png (deflated 0%)\n",
            "  adding: result_Sony/final/10055_00_100_out.png (deflated 0%)\n",
            "  adding: result_Sony/final/10139_00_300_gt.png (deflated 0%)\n",
            "  adding: result_Sony/final/10106_00_300_scale.png (deflated 0%)\n",
            "  adding: result_Sony/final/10093_00_300_out.png (deflated 0%)\n",
            "  adding: result_Sony/final/10006_00_100_scale.png (deflated 0%)\n",
            "  adding: result_Sony/final/10199_00_100_scale.png (deflated 0%)\n",
            "  adding: result_Sony/final/10172_00_300_out.png (deflated 0%)\n",
            "  adding: result_Sony/final/10163_00_300_scale.png (deflated 0%)\n",
            "  adding: result_Sony/final/10082_00_300_gt.png (deflated 0%)\n",
            "  adding: result_Sony/final/10203_00_250_out.png (deflated 0%)\n",
            "  adding: result_Sony/final/10140_00_300_out.png (deflated 0%)\n",
            "  adding: result_Sony/final/10035_00_250_gt.png (deflated 0%)\n",
            "  adding: result_Sony/final/10191_00_250_gt.png (deflated 0%)\n",
            "  adding: result_Sony/final/10022_00_100_gt.png (deflated 0%)\n",
            "  adding: result_Sony/final/10040_00_100_gt.png (deflated 0%)\n",
            "  adding: result_Sony/final/10106_00_300_gt.png (deflated 0%)\n",
            "  adding: result_Sony/final/10228_00_250_out.png (deflated 0%)\n",
            "  adding: result_Sony/final/10016_00_250_gt.png (deflated 0%)\n",
            "  adding: result_Sony/final/10032_00_250_out.png (deflated 0%)\n",
            "  adding: result_Sony/final/10172_00_300_scale.png (deflated 0%)\n",
            "  adding: result_Sony/final/10203_00_100_gt.png (deflated 0%)\n",
            "  adding: result_Sony/final/10077_00_300_scale.png (deflated 0%)\n",
            "  adding: result_Sony/final/10069_00_250_out.png (deflated 0%)\n",
            "  adding: result_Sony/final/10032_00_100_scale.png (deflated 0%)\n",
            "  adding: result_Sony/final/10082_00_300_scale.png (deflated 0%)\n",
            "  adding: result_Sony/final/10193_00_100_scale.png (deflated 0%)\n",
            "  adding: result_Sony/final/10139_00_300_scale.png (deflated 0%)\n",
            "  adding: result_Sony/final/10125_00_300_gt.png (deflated 0%)\n",
            "  adding: result_Sony/final/10116_00_300_out.png (deflated 0%)\n",
            "  adding: result_Sony/final/10227_00_250_gt.png (deflated 0%)\n",
            "  adding: result_Sony/final/10198_00_100_out.png (deflated 0%)\n",
            "  adding: result_Sony/final/10006_00_250_out.png (deflated 0%)\n",
            "  adding: result_Sony/final/10006_00_250_scale.png (deflated 0%)\n",
            "  adding: result_Sony/final/10226_00_100_gt.png (deflated 0%)\n",
            "  adding: result_Sony/final/10192_00_100_gt.png (deflated 0%)\n",
            "  adding: result_Sony/final/10187_00_250_scale.png (deflated 0%)\n",
            "  adding: result_Sony/final/10213_00_300_scale.png (deflated 0%)\n",
            "  adding: result_Sony/final/10034_00_250_gt.png (deflated 0%)\n",
            "  adding: result_Sony/final/10032_00_250_scale.png (deflated 0%)\n",
            "  adding: result_Sony/final/10187_00_100_scale.png (deflated 0%)\n",
            "  adding: result_Sony/final/10074_00_300_scale.png (deflated 0%)\n",
            "  adding: result_Sony/final/10199_00_300_out.png (deflated 0%)\n",
            "  adding: result_Sony/final/10213_00_300_out.png"
          ],
          "name": "stdout"
        },
        {
          "output_type": "stream",
          "text": [
            " (deflated 0%)\n",
            "  adding: result_Sony/final/10191_00_100_scale.png (deflated 0%)\n",
            "  adding: result_Sony/final/10040_00_100_scale.png (deflated 0%)\n",
            "  adding: result_Sony/final/10203_00_300_gt.png (deflated 0%)\n",
            "  adding: result_Sony/final/10035_00_250_out.png (deflated 0%)\n",
            "  adding: result_Sony/final/10103_00_300_out.png (deflated 0%)\n",
            "  adding: result_Sony/final/10069_00_250_gt.png (deflated 0%)\n",
            "  adding: result_Sony/final/10022_00_250_scale.png (deflated 0%)\n",
            "  adding: result_Sony/final/10193_00_250_gt.png (deflated 0%)\n",
            "  adding: result_Sony/final/10068_00_100_out.png (deflated 0%)\n",
            "  adding: result_Sony/final/10187_00_250_gt.png (deflated 0%)\n",
            "  adding: result_Sony/final/10203_00_300_out.png (deflated 0%)\n",
            "  adding: result_Sony/final/10101_00_300_gt.png (deflated 0%)\n",
            "  adding: result_Sony/final/10077_00_300_gt.png (deflated 0%)\n",
            "  adding: result_Sony/final/10167_00_300_out.png (deflated 0%)\n",
            "  adding: result_Sony/final/10006_00_250_gt.png (deflated 0%)\n",
            "  adding: result_Sony/final/10054_00_100_gt.png (deflated 0%)\n",
            "  adding: result_Sony/final/10178_00_100_gt.png (deflated 0%)\n",
            "  adding: result_Sony/final/10191_00_250_out.png (deflated 0%)\n",
            "  adding: result_Sony/final/10106_00_300_out.png (deflated 0%)\n",
            "  adding: result_Sony/final/10198_00_300_scale.png (deflated 0%)\n",
            "  adding: result_Sony/final/10163_00_300_gt.png (deflated 0%)\n",
            "  adding: result_Sony/final/10185_00_100_gt.png (deflated 0%)\n",
            "  adding: result_Sony/final/10069_00_100_scale.png (deflated 0%)\n",
            "  adding: result_Sony/final/10203_00_100_out.png (deflated 0%)\n",
            "  adding: result_Sony/final/10077_00_300_out.png (deflated 0%)\n",
            "  adding: result_Sony/final/10170_00_300_scale.png (deflated 0%)\n",
            "  adding: result_Sony/final/10193_00_300_scale.png (deflated 0%)\n",
            "  adding: result_Sony/final/10192_00_100_scale.png (deflated 0%)\n",
            "  adding: result_Sony/final/10054_00_250_out.png (deflated 0%)\n",
            "  adding: result_Sony/final/10198_00_100_gt.png (deflated 0%)\n",
            "  adding: result_Sony/final/10191_00_300_scale.png (deflated 0%)\n",
            "  adding: result_Sony/final/10003_00_250_out.png (deflated 0%)\n",
            "  adding: result_Sony/final/10228_00_300_out.png (deflated 0%)\n",
            "  adding: result_Sony/final/10198_00_250_gt.png (deflated 0%)\n",
            "  adding: result_Sony/final/10226_00_300_out.png (deflated 0%)\n",
            "  adding: result_Sony/final/10191_00_100_gt.png (deflated 0%)\n",
            "  adding: result_Sony/final/10192_00_250_scale.png (deflated 0%)\n",
            "  adding: result_Sony/final/10193_00_250_out.png (deflated 0%)\n",
            "  adding: result_Sony/final/10068_00_250_scale.png (deflated 0%)\n",
            "  adding: result_Sony/final/10126_00_300_out.png (deflated 0%)\n",
            "  adding: result_Sony/final/10068_00_100_scale.png (deflated 0%)\n",
            "  adding: result_Sony/final/10045_00_250_gt.png (deflated 0%)\n",
            "  adding: result_Sony/final/10016_00_250_scale.png (deflated 0%)\n",
            "  adding: result_Sony/final/10022_00_250_out.png (deflated 0%)\n",
            "  adding: result_Sony/final/10185_00_300_out.png (deflated 0%)\n",
            "  adding: result_Sony/final/10054_00_250_gt.png (deflated 0%)\n",
            "  adding: result_Sony/final/10034_00_250_scale.png (deflated 0%)\n",
            "  adding: result_Sony/final/10093_00_300_gt.png (deflated 0%)\n",
            "  adding: result_Sony/final/10185_00_250_out.png (deflated 0%)\n",
            "  adding: result_Sony/final/10003_00_250_scale.png (deflated 0%)\n",
            "  adding: result_Sony/final/10034_00_100_gt.png (deflated 0%)\n",
            "  adding: result_Sony/final/10032_00_100_out.png (deflated 0%)\n",
            "  adding: result_Sony/final/10213_00_300_gt.png (deflated 0%)\n",
            "  adding: result_Sony/final/10105_00_300_out.png (deflated 0%)\n",
            "  adding: result_Sony/final/10178_00_300_out.png"
          ],
          "name": "stdout"
        },
        {
          "output_type": "stream",
          "text": [
            " (deflated 0%)\n",
            "  adding: result_Sony/final/10030_00_100_out.png (deflated 0%)\n",
            "  adding: result_Sony/final/10193_00_300_out.png (deflated 0%)\n",
            "  adding: result_Sony/final/10226_00_250_gt.png (deflated 0%)\n",
            "  adding: result_Sony/final/10111_00_300_scale.png (deflated 0%)\n",
            "  adding: result_Sony/final/10016_00_100_gt.png (deflated 0%)\n",
            "  adding: result_Sony/final/10055_00_100_gt.png (deflated 0%)\n",
            "  adding: result_Sony/final/10178_00_300_gt.png (deflated 0%)\n",
            "  adding: result_Sony/final/10213_00_250_out.png (deflated 0%)\n",
            "  adding: result_Sony/final/10035_00_100_gt.png (deflated 0%)\n",
            "  adding: result_Sony/final/10172_00_300_gt.png (deflated 0%)\n",
            "  adding: result_Sony/final/10016_00_100_scale.png (deflated 0%)\n",
            "  adding: result_Sony/final/10054_00_100_scale.png (deflated 0%)\n",
            "  adding: result_Sony/final/10228_00_100_out.png (deflated 0%)\n",
            "  adding: result_Sony/final/10162_00_300_gt.png (deflated 0%)\n",
            "  adding: result_Sony/final/10213_00_250_scale.png (deflated 0%)\n",
            "  adding: result_Sony/final/10192_00_100_out.png (deflated 0%)\n",
            "  adding: result_Sony/final/10191_00_250_scale.png (deflated 0%)\n",
            "  adding: result_Sony/final/10193_00_100_gt.png (deflated 0%)\n",
            "  adding: result_Sony/final/10030_00_250_out.png (deflated 0%)\n",
            "  adding: result_Sony/final/10093_00_300_scale.png (deflated 0%)\n",
            "  adding: result_Sony/final/10226_00_300_scale.png (deflated 0%)\n",
            "  adding: result_Sony/final/10187_00_300_scale.png (deflated 0%)\n",
            "  adding: result_Sony/final/10203_00_100_scale.png (deflated 0%)\n",
            "  adding: result_Sony/final/10139_00_300_out.png (deflated 0%)\n",
            "  adding: result_Sony/final/10045_00_100_out.png (deflated 0%)\n",
            "  adding: result_Sony/final/10178_00_250_scale.png (deflated 0%)\n",
            "  adding: result_Sony/final/10185_00_250_scale.png (deflated 0%)\n",
            "  adding: result_Sony/final/10187_00_250_out.png (deflated 0%)\n",
            "  adding: result_Sony/final/10228_00_300_gt.png (deflated 0%)\n",
            "  adding: result_Sony/final/10105_00_300_gt.png (deflated 0%)\n",
            "  adding: result_Sony/final/10203_00_250_gt.png (deflated 0%)\n",
            "  adding: result_Sony/final/10087_00_300_scale.png (deflated 0%)\n",
            "  adding: result_Sony/final/10198_00_300_out.png (deflated 0%)\n",
            "  adding: result_Sony/final/10101_00_300_out.png (deflated 0%)\n",
            "  adding: result_Sony/final/10016_00_250_out.png (deflated 0%)\n",
            "  adding: result_Sony/final/10022_00_100_scale.png (deflated 0%)\n",
            "  adding: result_Sony/final/10054_00_250_scale.png (deflated 0%)\n",
            "  adding: result_Sony/final/10228_00_250_gt.png (deflated 0%)\n",
            "  adding: result_Sony/final/10226_00_100_out.png (deflated 0%)\n",
            "  adding: result_Sony/final/10227_00_250_out.png (deflated 0%)\n",
            "  adding: result_Sony/final/10055_00_100_scale.png (deflated 0%)\n",
            "  adding: result_Sony/final/10162_00_300_out.png (deflated 0%)\n",
            "  adding: result_Sony/final/10003_00_250_gt.png (deflated 0%)\n",
            "  adding: result_Sony/final/10217_00_300_out.png (deflated 0%)\n",
            "  adding: result_Sony/final/10193_00_250_scale.png (deflated 0%)\n",
            "  adding: result_Sony/final/10045_00_100_scale.png (deflated 0%)\n",
            "  adding: result_Sony/final/10191_00_300_gt.png (deflated 0%)\n",
            "  adding: result_Sony/final/10054_00_100_out.png (deflated 0%)\n",
            "  adding: result_Sony/final/10213_00_100_scale.png (deflated 0%)\n",
            "  adding: result_Sony/final/10193_00_100_out.png (deflated 0%)\n",
            "  adding: result_Sony/final/10213_00_250_gt.png (deflated 0%)\n",
            "  adding: result_Sony/final/10228_00_300_scale.png (deflated 0%)\n",
            "  adding: result_Sony/final/10126_00_300_gt.png (deflated 0%)\n",
            "  adding: result_Sony/final/10185_00_100_scale.png"
          ],
          "name": "stdout"
        },
        {
          "output_type": "stream",
          "text": [
            " (deflated 0%)\n",
            "  adding: result_Sony/final/10011_00_250_gt.png (deflated 0%)\n",
            "  adding: result_Sony/final/10040_00_250_out.png (deflated 0%)\n",
            "  adding: result_Sony/final/10082_00_300_out.png (deflated 0%)\n",
            "  adding: result_Sony/final/10040_00_250_gt.png (deflated 0%)\n",
            "  adding: result_Sony/final/10167_00_300_scale.png (deflated 0%)\n",
            "  adding: result_Sony/final/10178_00_250_out.png (deflated 0%)\n"
          ],
          "name": "stdout"
        }
      ]
    },
    {
      "metadata": {
        "id": "_3GK5N9k9FRZ",
        "colab_type": "code",
        "colab": {}
      },
      "cell_type": "code",
      "source": [
        "import cv2\n",
        "cv2.imshow('final',cv2.imread('result_Sony/final/10011_00_250_out.png'))"
      ],
      "execution_count": 0,
      "outputs": []
    }
  ]
}